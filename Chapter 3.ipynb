{
 "cells": [
  {
   "cell_type": "markdown",
   "metadata": {},
   "source": [
    "## Exercise 3.3\n",
    "\n",
    "Write a function named right_justify that takes a string named s as a parameter and prints the\n",
    "string with enough leading spaces so that the last letter of the string is in column 70 of the display."
   ]
  },
  {
   "cell_type": "code",
   "execution_count": 2,
   "metadata": {},
   "outputs": [
    {
     "name": "stdout",
     "output_type": "stream",
     "text": [
      "                                                                 allen\n"
     ]
    }
   ],
   "source": [
    "def right_justify(s):\n",
    "    print(\"%70s\" % s)\n",
    "    \n",
    "right_justify(\"allen\")"
   ]
  },
  {
   "cell_type": "markdown",
   "metadata": {},
   "source": [
    "## Exercise 3.4\n",
    "\n",
    "<pre>\n",
    "A function object is a value you can assign to a variable or pass as an argument. For example, do_twice is a function that takes a function object as an argument and calls it twice:\n",
    "def do_twice(f):\n",
    "    f()\n",
    "    f()\n",
    "Here’s an example that uses do_twice to call a function named print_spam twice.\n",
    "\n",
    "def print_spam():\n",
    "    print 'spam'\n",
    "    \n",
    "do_twice(print_spam)\n",
    "\n",
    "1. Type this example into a script and test it.\n",
    "2. Modify do_twice so that it takes two arguments, a function object and a value, and calls the function twice, passing the value as an argument.\n",
    "3. Write a more general version of print_spam, called print_twice, that takes a string as a parameter and prints it twice.\n",
    "4. Use the modified version of do_twice to call print_twice twice, passing 'spam' as an argument.\n",
    "5. Define a new function called do_four that takes a function object and a value and calls the function four times, passing the value as a parameter. There should be only two statements in the body of this function, not four.\n",
    "</pre>"
   ]
  },
  {
   "cell_type": "code",
   "execution_count": 3,
   "metadata": {},
   "outputs": [
    {
     "name": "stdout",
     "output_type": "stream",
     "text": [
      "spam\n",
      "spam\n"
     ]
    }
   ],
   "source": [
    "def do_twice(f):\n",
    "    f()\n",
    "    f()\n",
    "    \n",
    "def print_spam():\n",
    "    print('spam')\n",
    "    \n",
    "do_twice(print_spam)    \n",
    "    "
   ]
  },
  {
   "cell_type": "code",
   "execution_count": 8,
   "metadata": {},
   "outputs": [
    {
     "name": "stdout",
     "output_type": "stream",
     "text": [
      "spam\n",
      "spam\n"
     ]
    }
   ],
   "source": [
    "def do_twice(f,*argv):\n",
    "    f(*argv)\n",
    "\n",
    "    \n",
    "def print_twice(s):\n",
    "    print(s)\n",
    "    print(s)\n",
    "    \n",
    "do_twice(print_twice,'spam')    "
   ]
  },
  {
   "cell_type": "code",
   "execution_count": 9,
   "metadata": {},
   "outputs": [
    {
     "name": "stdout",
     "output_type": "stream",
     "text": [
      "spam\n",
      "spam\n",
      "spam\n",
      "spam\n"
     ]
    }
   ],
   "source": [
    "def do_four(f,*argv):\n",
    "    do_twice(f,*argv)\n",
    "    do_twice(f,*argv)\n",
    "    \n",
    "do_four(print_twice,'spam')    "
   ]
  },
  {
   "cell_type": "markdown",
   "metadata": {},
   "source": [
    "## Exercise 3.5. This exercise can be done using only the statements and other features we have learned so far.\n",
    "\n",
    "<pre>\n",
    "1. Write a function that draws a grid like the following:\n",
    " \n",
    "+ - - - - + - - - - + \n",
    "|         |         |\n",
    "|         |         |\n",
    "|         |         |\n",
    "|         |         |\n",
    "+ - - - - + - - - - + \n",
    "|         |         |\n",
    "|         |         |\n",
    "|         |         | \n",
    "|         |         | \n",
    "+ - - - - + - - - - +\n",
    "\n",
    "Hint: to print more than one value on a line, you can print a comma-separated sequence:\n",
    "print '+', '-'\n",
    "If the sequence ends with a comma, Python leaves the line unfinished, so the value printed next appears on the same line.\n",
    "print '+',\n",
    "print '-'\n",
    "The output of these statements is '+ -'.\n",
    "A print statement all by itself ends the current line and goes to the next line.\n",
    "</pre>"
   ]
  },
  {
   "cell_type": "code",
   "execution_count": 83,
   "metadata": {},
   "outputs": [],
   "source": [
    "#in progress\n",
    "def print_pipe():\n",
    "     print('|    ',)\n",
    "\n",
    "def print_beam():\n",
    "    print(\"+ - - - -\",)\n",
    "\n",
    "def print_twice(f):\n",
    "    f()\n",
    "    f()\n",
    "\n",
    "    \n",
    "def print_four(f):\n",
    "    print_twice(f)\n",
    "    print_twice(f)\n",
    " \n",
    "def print_beams():\n",
    "    print_twice(print_beam)\n",
    "    \n",
    "def print_row():\n",
    "    print_beams()\n",
    "    print('+')\n",
    "\n",
    "def print_pipe_row():\n",
    "    print_twice(print_pipe)\n",
    "    print('    |')\n",
    "    \n",
    "def print_grid():\n",
    "    print_row()\n",
    "    print_pipe_row()\n",
    "   "
   ]
  },
  {
   "cell_type": "code",
   "execution_count": null,
   "metadata": {},
   "outputs": [],
   "source": []
  }
 ],
 "metadata": {
  "kernelspec": {
   "display_name": "Python 3",
   "language": "python",
   "name": "python3"
  },
  "language_info": {
   "codemirror_mode": {
    "name": "ipython",
    "version": 3
   },
   "file_extension": ".py",
   "mimetype": "text/x-python",
   "name": "python",
   "nbconvert_exporter": "python",
   "pygments_lexer": "ipython3",
   "version": "3.6.5"
  }
 },
 "nbformat": 4,
 "nbformat_minor": 2
}
